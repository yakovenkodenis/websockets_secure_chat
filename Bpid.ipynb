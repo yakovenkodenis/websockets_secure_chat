{
 "cells": [
  {
   "cell_type": "markdown",
   "metadata": {},
   "source": [
    "# Лабораторные работы"
   ]
  },
  {
   "cell_type": "markdown",
   "metadata": {},
   "source": [
    "## DES"
   ]
  },
  {
   "cell_type": "markdown",
   "metadata": {},
   "source": [
    "DES - блочный алгоритм для симметричного шифрования.\n",
    "    - Работает на блоках данных по 64 бита\n",
    "    - Размер ключа - 64 бита (56 бит + 8 проверочных (parity bits))\n",
    "    - Использует 16 раундов шифрования сетью фейстеля, для каждого раунда генерируется свой подключ\n",
    "    - Если нужно зашифровать данные, размерном больше 64-х бит, используются слудующие (mode of operation):\n",
    "        - ECB (electronic code book) - шифрование 64-битных по-порядку, не зависимо друг от друга\n",
    "        - CBC (cipher block chaining) - каждый 64-битный блок открытого текста (кроме первого) складывается по модулю 2 с предыдущим результатом шифрования\n",
    "        - CFB (cipher feed back) / OFB (output feed back) - схожы с CBC, но используют другие похожие схемы с xor\n",
    "    - Если блок данных меньше 64-бит, используется паддинг, например, PKCS5 или, в обобщенном виде, PKCS7"
   ]
  },
  {
   "cell_type": "markdown",
   "metadata": {},
   "source": [
    "#### Алгоритм"
   ]
  },
  {
   "cell_type": "code",
   "execution_count": 1,
   "metadata": {
    "collapsed": false
   },
   "outputs": [],
   "source": [
    "import bitarray\n",
    "import itertools\n",
    "from collections import deque\n",
    "\n",
    "\n",
    "class DES(object):\n",
    "\n",
    "    _initial_permutation = [\n",
    "        58, 50, 42, 34, 26, 18, 10, 2,\n",
    "        60, 52, 44, 36, 28, 20, 12, 4,\n",
    "        62, 54, 46, 38, 30, 22, 14, 6,\n",
    "        64, 56, 48, 40, 32, 24, 16, 8,\n",
    "        57, 49, 41, 33, 25, 17, 9, 1,\n",
    "        59, 51, 43, 35, 27, 19, 11, 3,\n",
    "        61, 53, 45, 37, 29, 21, 13, 5,\n",
    "        63, 55, 47, 39, 31, 23, 15, 7\n",
    "    ]\n",
    "\n",
    "    _final_permutation = [\n",
    "        40, 8, 48, 16, 56, 24, 64, 32,\n",
    "        39, 7, 47, 15, 55, 23, 63, 31,\n",
    "        38, 6, 46, 14, 54, 22, 62, 30,\n",
    "        37, 5, 45, 13, 53, 21, 61, 29,\n",
    "        36, 4, 44, 12, 52, 20, 60, 28,\n",
    "        35, 3, 43, 11, 51, 19, 59, 27,\n",
    "        34, 2, 42, 10, 50, 18, 58, 26,\n",
    "        33, 1, 41, 9, 49, 17, 57, 25\n",
    "    ]\n",
    "\n",
    "    _expansion_function = [\n",
    "        32, 1, 2, 3, 4, 5,\n",
    "        4, 5, 6, 7, 8, 9,\n",
    "        8, 9, 10, 11, 12, 13,\n",
    "        12, 13, 14, 15, 16, 17,\n",
    "        16, 17, 18, 19, 20, 21,\n",
    "        20, 21, 22, 23, 24, 25,\n",
    "        24, 25, 26, 27, 28, 29,\n",
    "        28, 29, 30, 31, 32, 1\n",
    "    ]\n",
    "\n",
    "    _permutation = [\n",
    "        16, 7, 20, 21, 29, 12, 28, 17,\n",
    "        1, 15, 23, 26, 5, 18, 31, 10,\n",
    "        2, 8, 24, 14, 32, 27, 3, 9,\n",
    "        19, 13, 30, 6, 22, 11, 4, 25\n",
    "    ]\n",
    "\n",
    "    _pc1 = [\n",
    "        57, 49, 41, 33, 25, 17, 9,\n",
    "        1, 58, 50, 42, 34, 26, 18,\n",
    "        10, 2, 59, 51, 43, 35, 27,\n",
    "        19, 11, 3, 60, 52, 44, 36,\n",
    "        63, 55, 47, 39, 31, 23, 15,\n",
    "        7, 62, 54, 46, 38, 30, 22,\n",
    "        14, 6, 61, 53, 45, 37, 29,\n",
    "        21, 13, 5, 28, 20, 12, 4\n",
    "    ]\n",
    "\n",
    "    _pc2 = [\n",
    "        14, 17, 11, 24, 1, 5,\n",
    "        3, 28, 15, 6, 21, 10,\n",
    "        23, 19, 12, 4, 26, 8,\n",
    "        16, 7, 27, 20, 13, 2,\n",
    "        41, 52, 31, 37, 47, 55,\n",
    "        30, 40, 51, 45, 33, 48,\n",
    "        44, 49, 39, 56, 34, 53,\n",
    "        46, 42, 50, 36, 29, 32\n",
    "    ]\n",
    "\n",
    "    _left_rotations = [\n",
    "        1, 1, 2, 2, 2, 2, 2, 2, 1, 2, 2, 2, 2, 2, 2, 1\n",
    "    ]\n",
    "\n",
    "    _sbox = [\n",
    "        # S1\n",
    "        [\n",
    "            [14, 4, 13, 1, 2, 15, 11, 8, 3, 10, 6, 12, 5, 9, 0, 7],\n",
    "            [0, 15, 7, 4, 14, 2, 13, 1, 10, 6, 12, 11, 9, 5, 3, 8],\n",
    "            [4, 1, 14, 8, 13, 6, 2, 11, 15, 12, 9, 7, 3, 10, 5, 0],\n",
    "            [15, 12, 8, 2, 4, 9, 1, 7, 5, 11, 3, 14, 10, 0, 6, 13]\n",
    "        ],\n",
    "\n",
    "        # S2\n",
    "        [\n",
    "            [15, 1, 8, 14, 6, 11, 3, 4, 9, 7, 2, 13, 12, 0, 5, 10],\n",
    "            [3, 13, 4, 7, 15, 2, 8, 14, 12, 0, 1, 10, 6, 9, 11, 5],\n",
    "            [0, 14, 7, 11, 10, 4, 13, 1, 5, 8, 12, 6, 9, 3, 2, 15],\n",
    "            [13, 8, 10, 1, 3, 15, 4, 2, 11, 6, 7, 12, 0, 5, 14, 9]\n",
    "        ],\n",
    "\n",
    "        # S3\n",
    "        [\n",
    "            [10, 0, 9, 14, 6, 3, 15, 5, 1, 13, 12, 7, 11, 4, 2, 8],\n",
    "            [13, 7, 0, 9, 3, 4, 6, 10, 2, 8, 5, 14, 12, 11, 15, 1],\n",
    "            [13, 6, 4, 9, 8, 15, 3, 0, 11, 1, 2, 12, 5, 10, 14, 7],\n",
    "            [1, 10, 13, 0, 6, 9, 8, 7, 4, 15, 14, 3, 11, 5, 2, 12]\n",
    "        ],\n",
    "\n",
    "        # S4\n",
    "        [\n",
    "            [7, 13, 14, 3, 0, 6, 9, 10, 1, 2, 8, 5, 11, 12, 4, 15],\n",
    "            [13, 8, 11, 5, 6, 15, 0, 3, 4, 7, 2, 12, 1, 10, 14, 9],\n",
    "            [10, 6, 9, 0, 12, 11, 7, 13, 15, 1, 3, 14, 5, 2, 8, 4],\n",
    "            [3, 15, 0, 6, 10, 1, 13, 8, 9, 4, 5, 11, 12, 7, 2, 14]\n",
    "        ],\n",
    "\n",
    "        # S5\n",
    "        [\n",
    "            [2, 12, 4, 1, 7, 10, 11, 6, 8, 5, 3, 15, 13, 0, 14, 9],\n",
    "            [14, 11, 2, 12, 4, 7, 13, 1, 5, 0, 15, 10, 3, 9, 8, 6],\n",
    "            [4, 2, 1, 11, 10, 13, 7, 8, 15, 9, 12, 5, 6, 3, 0, 14],\n",
    "            [11, 8, 12, 7, 1, 14, 2, 13, 6, 15, 0, 9, 10, 4, 5, 3]\n",
    "        ],\n",
    "\n",
    "        # S6\n",
    "        [\n",
    "            [12, 1, 10, 15, 9, 2, 6, 8, 0, 13, 3, 4, 14, 7, 5, 11],\n",
    "            [10, 15, 4, 2, 7, 12, 9, 5, 6, 1, 13, 14, 0, 11, 3, 8],\n",
    "            [9, 14, 15, 5, 2, 8, 12, 3, 7, 0, 4, 10, 1, 13, 11, 6],\n",
    "            [4, 3, 2, 12, 9, 5, 15, 10, 11, 14, 1, 7, 6, 0, 8, 13]\n",
    "        ],\n",
    "\n",
    "        # S7\n",
    "        [\n",
    "            [4, 11, 2, 14, 15, 0, 8, 13, 3, 12, 9, 7, 5, 10, 6, 1],\n",
    "            [13, 0, 11, 7, 4, 9, 1, 10, 14, 3, 5, 12, 2, 15, 8, 6],\n",
    "            [1, 4, 11, 13, 12, 3, 7, 14, 10, 15, 6, 8, 0, 5, 9, 2],\n",
    "            [6, 11, 13, 8, 1, 4, 10, 7, 9, 5, 0, 15, 14, 2, 3, 12]\n",
    "        ],\n",
    "\n",
    "        # S8\n",
    "        [\n",
    "            [13, 2, 8, 4, 6, 15, 11, 1, 10, 9, 3, 14, 5, 0, 12, 7],\n",
    "            [1, 15, 13, 8, 10, 3, 7, 4, 12, 5, 6, 11, 0, 14, 9, 2],\n",
    "            [7, 11, 4, 1, 9, 12, 14, 2, 0, 6, 10, 13, 15, 3, 5, 8],\n",
    "            [2, 1, 14, 7, 4, 10, 8, 13, 15, 12, 9, 0, 3, 5, 6, 11]\n",
    "        ]\n",
    "    ]\n",
    "\n",
    "    def __init__(self, key):\n",
    "        self.key = key\n",
    "\n",
    "    def encrypt(self, message):\n",
    "        padded = self.pkcs7_padding(message, pad=True)\n",
    "        result = []\n",
    "\n",
    "        for block in padded:\n",
    "            result += self.encrypt_64bit(''.join(str(i) for i in block))\n",
    "\n",
    "        return result\n",
    "\n",
    "    def decrypt(self, message, msg_in_bits=False):\n",
    "        bits_array_msg = []\n",
    "        if msg_in_bits:\n",
    "            bits_array_msg = message\n",
    "        else:\n",
    "            bits_array_msg = self._string_to_bitsarray(message)\n",
    "\n",
    "        if len(bits_array_msg) % 64 != 0:\n",
    "            raise ValueError('Ciphered code must be a multiple of 64')\n",
    "\n",
    "        blocks_lst = [\n",
    "            bits_array_msg[i:i + 64] for i in range(0, len(bits_array_msg), 64)\n",
    "        ]\n",
    "\n",
    "        result = []\n",
    "\n",
    "        for block in blocks_lst:\n",
    "            decrypted = self.decrypt_64bit(block, msg_in_bits=True)\n",
    "            bl = list(\n",
    "                ''.join(chr(int(\n",
    "                    ''.join(\n",
    "                        map(str, decrypted[i:i + 8])),\n",
    "                    2)) for i in range(0, len(decrypted), 8)))\n",
    "            bl = self._unpad(bl)\n",
    "            result += bl\n",
    "\n",
    "        return ''.join(result)\n",
    "\n",
    "    def encrypt_64bit(self, message):\n",
    "        return self.crypt(message, encrypt=True)\n",
    "\n",
    "    def decrypt_64bit(self, message, msg_in_bits=False):\n",
    "        return self.crypt(message, encrypt=False, msg_in_bits=msg_in_bits)\n",
    "\n",
    "    def crypt(self, message, encrypt=True, msg_in_bits=False):\n",
    "        bits_array_msg = []\n",
    "        if msg_in_bits:\n",
    "            bits_array_msg = message\n",
    "        else:\n",
    "            bits_array_msg = self._string_to_bitsarray(message)\n",
    "\n",
    "        bits_array_key = self._string_to_bitsarray(self.key)\n",
    "\n",
    "        if len(bits_array_msg) != 64:\n",
    "            raise ValueError('Message must be 64 bit!')\n",
    "\n",
    "        if len(bits_array_key) != 64:\n",
    "            raise ValueError('Key must be 64 bit!')\n",
    "\n",
    "        # Compute 16 48-bit subkeys\n",
    "        subkeys = self.get_subkeys(bits_array_key)\n",
    "\n",
    "        # Convert the message using the initial permutation block\n",
    "        msg = [bits_array_msg[i - 1] for i in self._initial_permutation]\n",
    "\n",
    "        L, R = msg[:32], msg[32:]\n",
    "\n",
    "        if encrypt:\n",
    "            for i in range(16):\n",
    "                prev_r = R\n",
    "                r_feistel = self.feistel_function(R, subkeys[i])\n",
    "                R = [L[i] ^ r_feistel[i] for i in range(32)]\n",
    "                L = prev_r\n",
    "        else:\n",
    "            for i in reversed(range(16)):\n",
    "                prev_l = L\n",
    "                l_feistel = self.feistel_function(L, subkeys[i])\n",
    "                L = [R[i] ^ l_feistel[i] for i in range(32)]\n",
    "                R = prev_l\n",
    "\n",
    "        before_final_permute = L + R\n",
    "        return [before_final_permute[i - 1] for i in self._final_permutation]\n",
    "\n",
    "    def pkcs7_padding(self, message, block_size=8, pad=True):\n",
    "        msg = list(message)\n",
    "        blocks_lst = [\n",
    "            msg[i:i + block_size] for i in range(0, len(msg), block_size)\n",
    "        ]\n",
    "\n",
    "        s = block_size\n",
    "        return [\n",
    "            self._pad(b, s) if len(b) < block_size else b for b in blocks_lst\n",
    "        ] if pad else blocks_lst\n",
    "\n",
    "    def feistel_function(self, r_32bit, subkey_48bit):\n",
    "        r_48bit = [r_32bit[i - 1] for i in self._expansion_function]\n",
    "        subkey_xor_r = [r_48bit[i] ^ subkey_48bit[i] for i in range(48)]\n",
    "\n",
    "        # Divide subkey_xor_r into 8 6-bit blocks for computing s-boxes\n",
    "        b_6_bit_blocks = [subkey_xor_r[i:i + 6] for i in range(0, 48, 6)]\n",
    "\n",
    "        # Compute 8 s-boxes and concatenate them into 32-bit vector\n",
    "        after_sboxes_32bit = list(itertools.chain(*[\n",
    "            self.compute_s_box(\n",
    "                self._sbox[i], b_6_bit_blocks[i]) for i in range(8)\n",
    "        ]))\n",
    "        # Compute the permutation and return the 32-bit block\n",
    "        return [int(after_sboxes_32bit[i - 1]) for i in self._permutation]\n",
    "\n",
    "    def compute_s_box(self, sbox, b_6_bit):\n",
    "        row = int(''.join(str(x) for x in [b_6_bit[0], b_6_bit[5]]), 2)\n",
    "        col = int(''.join(str(x) for x in b_6_bit[1:5]), 2)\n",
    "        s_box_res = sbox[row][col]\n",
    "        return list('{0:04b}'.format(s_box_res))\n",
    "\n",
    "    def get_subkeys(self, bits_array_key):\n",
    "        # Extract 8 parity bits from the key (8, 16, 24, 32, 40, 48, 56, 64)\n",
    "        # key_56bit = bits_array_key\n",
    "        # del key_56bit[7::8]\n",
    "\n",
    "        # Compute Permuted Choice 1 on the key\n",
    "        key_56bit = [bits_array_key[i - 1] for i in self._pc1]\n",
    "\n",
    "        # Split the key into two 28-bit subkeys\n",
    "        key_56_left, key_56_right = [\n",
    "            key_56bit[i:i + 28] for i in range(0, 56, 28)\n",
    "        ]\n",
    "\n",
    "        # Compute 16 48-bit keys using left rotations and permuted choice 2\n",
    "        subkeys_48bit = []\n",
    "        C, D = key_56_left, key_56_right\n",
    "        for i in range(16):\n",
    "            C_deque, D_deque = deque(C), deque(D)\n",
    "            C_deque.rotate(-self._left_rotations[i])\n",
    "            D_deque.rotate(-self._left_rotations[i])\n",
    "\n",
    "            C, D = list(C_deque), list(D_deque)\n",
    "            CD = C + D\n",
    "            subkeys_48bit.append([CD[i - 1] for i in self._pc2])\n",
    "\n",
    "        return subkeys_48bit\n",
    "\n",
    "    def _string_to_bitsarray(self, string):\n",
    "        ba = bitarray.bitarray()\n",
    "        ba.fromstring(string)\n",
    "        return [1 if i else 0 for i in ba.tolist()]\n",
    "\n",
    "    def _pad(self, arr, block_size):\n",
    "        z = block_size - len(arr)\n",
    "        return arr + [z] * z\n",
    "\n",
    "    def _unpad(self, arr):\n",
    "        if str(arr[-1]).isdigit():\n",
    "            arr_str = ''.join(str(i) for i in arr)\n",
    "            i = j = int(arr[-1])\n",
    "\n",
    "            while arr_str[-1] == str(j) and i > 0:\n",
    "                arr_str = arr_str[:-1]\n",
    "                i -= 1\n",
    "\n",
    "            return list(arr_str)\n",
    "        else:\n",
    "            return arr\n"
   ]
  },
  {
   "cell_type": "markdown",
   "metadata": {},
   "source": [
    "#### Работа алгоритма"
   ]
  },
  {
   "cell_type": "code",
   "execution_count": 2,
   "metadata": {
    "collapsed": false
   },
   "outputs": [
    {
     "name": "stdout",
     "output_type": "stream",
     "text": [
      "Ciphered bits:\n",
      " [1, 0, 1, 0, 1, 0, 1, 0, 1, 1, 1, 1, 0, 0, 1, 0, 1, 1, 0, 1, 1, 1, 1, 0, 0, 1, 1, 0, 0, 0, 0, 0, 1, 0, 1, 0, 0, 1, 1, 0, 0, 1, 1, 1, 1, 1, 0, 1, 0, 0, 0, 0, 1, 0, 1, 1, 1, 1, 0, 1, 1, 0, 1, 0, 1, 0, 0, 1, 1, 0, 0, 0, 0, 1, 0, 1, 1, 0, 0, 1, 0, 0, 1, 0, 0, 0, 0, 1, 0, 1, 1, 0, 0, 0, 0, 1, 1, 0, 1, 1, 1, 0, 1, 1, 0, 0, 0, 0, 0, 1, 0, 1, 1, 0, 0, 0, 0, 0, 0, 0, 1, 1, 0, 0, 0, 1, 0, 0]\n",
      "Deciphered text:\n",
      " hello world!\n"
     ]
    }
   ],
   "source": [
    "d = DES('qwertyui')\n",
    "\n",
    "cipher = d.encrypt('hello world!')\n",
    "\n",
    "print(\"Ciphered bits:\\n\", cipher)\n",
    "\n",
    "deciphered = d.decrypt(cipher, msg_in_bits=True)\n",
    "\n",
    "print(\"Deciphered text:\\n\", deciphered)"
   ]
  },
  {
   "cell_type": "markdown",
   "metadata": {},
   "source": [
    "## Хеш-функция"
   ]
  },
  {
   "cell_type": "markdown",
   "metadata": {},
   "source": [
    "    - 8-ми байтная\n",
    "    - Переменные a, b, c и d после генерации складываются в шестнадцатеричном виде в порядке d, c, a, b."
   ]
  },
  {
   "cell_type": "markdown",
   "metadata": {},
   "source": [
    "#### Код функции"
   ]
  },
  {
   "cell_type": "code",
   "execution_count": 3,
   "metadata": {
    "collapsed": true
   },
   "outputs": [],
   "source": [
    "def hash_function(s=b''):\n",
    "    a, b, c, d = 0xa0, 0xb1, 0x11, 0x4d\n",
    "\n",
    "    for byte in bytearray(s):\n",
    "        a ^= byte\n",
    "        b = b ^ a ^ 0x55\n",
    "        c = b ^ 0x94\n",
    "        d = c ^ byte ^ 0x74\n",
    "\n",
    "    return format(d << 24 | c << 16 | a << 8 | b, '08x')"
   ]
  },
  {
   "cell_type": "markdown",
   "metadata": {},
   "source": [
    "#### Коллизия"
   ]
  },
  {
   "cell_type": "markdown",
   "metadata": {},
   "source": [
    "Поиск 4-х байтных коллизий для хеш-функции:"
   ]
  },
  {
   "cell_type": "code",
   "execution_count": 4,
   "metadata": {
    "collapsed": false,
    "scrolled": false
   },
   "outputs": [
    {
     "name": "stdout",
     "output_type": "stream",
     "text": [
      "6746ddd2 b'S6MU' b'I6WU'\n",
      "6738f3ac b'46z+' b'k6%+'\n",
      "6d7cb7e8 b't<:e' b'h<&e'\n",
      "2038d3ac b'&qHl' b'8qVl'\n",
      "1639daad b'2GT[' b'XG>['\n",
      "6d2ff1bb b\"|<'6\" b'9<b6'\n",
      "0f50d1c4 b'1^5+' b'Q^U+'\n",
      "7e45cbd1 b'r/yO' b'}/vO'\n",
      "0326a4b2 b'GR@Q' b'&R!Q'\n",
      "3c1ab88e b'jmMR' b'}mZR'\n",
      "0405e591 b'_U:u' b',UIu'\n",
      "692ccfb8 b'E8#1' b']8;1'\n",
      "0a11f485 b'V[6o' b'6[Vo'\n",
      "634486d0 b'!2fS' b'.2iS'\n",
      "7e46c6d2 b'2/7L' b'4/1L'\n"
     ]
    }
   ],
   "source": [
    "from random import choice, seed\n",
    "\n",
    "\n",
    "ascii = ''.join([chr(i) for i in range(33, 127)])\n",
    "\n",
    "seed(37)\n",
    "found = {}\n",
    "\n",
    "for j in range(5000):\n",
    "    # Build a 4 byte random string\n",
    "    s = bytes(''.join([choice(ascii) for _ in range(4)]), 'ascii')\n",
    "    h = hash_function(s)\n",
    "    if h in found:\n",
    "        v = found[h]\n",
    "        if v == s:\n",
    "            # Same hash, but from the same source string\n",
    "            continue\n",
    "        print(h, found[h], s)\n",
    "    found[h] = s"
   ]
  },
  {
   "cell_type": "markdown",
   "metadata": {},
   "source": [
    "#### Кривая вероятности коллизии на выбранном интервале"
   ]
  },
  {
   "cell_type": "markdown",
   "metadata": {},
   "source": [
    "Расчет вероятностей коллизии для хеш-выборок заданного размера с использованием принципа парадокса дней рождения."
   ]
  },
  {
   "cell_type": "code",
   "execution_count": 1,
   "metadata": {
    "collapsed": false,
    "scrolled": true
   },
   "outputs": [
    {
     "data": {
      "image/png": "[encoded data removed]",
      "text/plain": [
       "<matplotlib.figure.Figure at 0x7f55540c29e8>"
      ]
     },
     "metadata": {},
     "output_type": "display_data"
    }
   ],
   "source": [
    "%matplotlib inline\n",
    "import math\n",
    "import numpy as np\n",
    "import matplotlib.pyplot as plt\n",
    "\n",
    "# Calculate the probability of collision among 10000 keys using Birthday Paradox Principle\n",
    "n = num_of_all_hashes = 8 ** 8  # 16777216\n",
    "keys = 10000\n",
    "probUnique = 1.0\n",
    "keys_arr = np.array(range(1, keys))\n",
    "coll_probs = []\n",
    "\n",
    "for k in range(1, keys):\n",
    "    probUnique = probUnique * (n - (k - 1)) / n\n",
    "    coll_probs.append((1 - math.exp(-0.5 * k * (k - 1) / n)))\n",
    "\n",
    "plt.plot(keys_arr, coll_probs)\n",
    "plt.show()"
   ]
  },
  {
   "cell_type": "markdown",
   "metadata": {},
   "source": [
    "\n",
    "## Протокол Диффи-Хеллмана"
   ]
  },
  {
   "cell_type": "markdown",
   "metadata": {},
   "source": [
    "Позволяет двум или более сторонам получить общий секретный ключ, используя незащищенный от прослушивания канал связи. Полученный ключ используется для шифрования дальнейшего обмена с помощью алгоритмов симметричного шифрования.\n",
    "\n",
    "Использует операции возведения в степень по модулю и симметричность модульной арифметики."
   ]
  },
  {
   "cell_type": "markdown",
   "metadata": {},
   "source": [
    "#### Код алгоритма"
   ]
  },
  {
   "cell_type": "code",
   "execution_count": 22,
   "metadata": {
    "collapsed": false,
    "scrolled": false
   },
   "outputs": [],
   "source": [
    "from hashes.hash_function import hash_function\n",
    "from binascii import hexlify\n",
    "try:\n",
    "    import ssl\n",
    "    random_function = ssl.RAND_bytes\n",
    "    random_provider = \"Python SSL\"\n",
    "except (AttributeError, ImportError):\n",
    "    import OpenSSL\n",
    "    random_function = OpenSSL.rand.bytes\n",
    "    random_provider = \"OpenSSL\"\n",
    "\n",
    "\n",
    "class DiffieHellman(object):\n",
    "\n",
    "    def __init__(self, generator=2, prime=11,\n",
    "                 key_length=540, private_key=None):\n",
    "        self.generator = generator\n",
    "        self.key_length = key_length\n",
    "        self.prime = prime\n",
    "\n",
    "        if private_key:\n",
    "            self.private_key = private_key\n",
    "        else:\n",
    "            self.private_key = self.gen_private_key(self.key_length)\n",
    "\n",
    "        self.public_key = self.gen_public_key()\n",
    "\n",
    "    def get_random(self, bits):\n",
    "        _rand = 0\n",
    "        _bytes = bits\n",
    "\n",
    "        while _rand.bit_length() < bits:\n",
    "            _rand = int.from_bytes(random_function(_bytes), byteorder='big')\n",
    "\n",
    "        return _rand\n",
    "\n",
    "    def gen_private_key(self, bits):\n",
    "        return self.get_random(bits)\n",
    "\n",
    "    def gen_public_key(self):\n",
    "        return pow(self.generator, self.private_key, self.prime)\n",
    "\n",
    "    def gen_secret(self, private_key, other_key):\n",
    "        return pow(other_key, private_key, self.prime)\n",
    "\n",
    "    def gen_key(self, other_key):\n",
    "        self.shared_secret = self.gen_secret(self.private_key, other_key)\n",
    "\n",
    "        try:\n",
    "            _shared_secret_bytes = self.shared_secret.to_bytes(\n",
    "                self.shared_secret.bit_length() // 8 + 1, byteorder='big'\n",
    "            )\n",
    "        except AttributeError:\n",
    "            _shared_secret_bytes = str(self.shared_secret)\n",
    "\n",
    "        # self.key = hash_function(bytes(_shared_secret_bytes, 'ascii'))\n",
    "        self.key = hash_function(_shared_secret_bytes)\n",
    "\n",
    "    def get_key(self):\n",
    "        return self.key\n",
    "\n",
    "    def get_shared_secret(self):\n",
    "        return self.shared_secret\n",
    "\n",
    "    def show_params(self):\n",
    "        print('Parameters:')\n",
    "        print('Prime [{0}]: {1}'.format(self.prime.bit_length(), self.prime))\n",
    "        print(\n",
    "            'Generator [{0}]: {1}\\n'\n",
    "            .format(self.generator.bit_length(), self.generator))\n",
    "        print(\n",
    "            'Private key [{0}]: {1}\\n'\n",
    "            .format(self.private_key.bit_length(), self.private_key))\n",
    "        print(\n",
    "            'Public key [{0}]: {1}'\n",
    "            .format(self.public_key.bit_length(), self.public_key))\n",
    "\n",
    "    def show_results(self):\n",
    "        print('Results:')\n",
    "        print(\n",
    "            'Shared secret [{0}]: {1}'\n",
    "            .format(self.shared_secret.bit_length(), self.shared_secret))\n",
    "        print(\n",
    "            'Shared key [{0}]: {1}'.format(len(self.key),\n",
    "                                           hexlify(bytes(self.key, 'ascii'))))\n"
   ]
  },
  {
   "cell_type": "markdown",
   "metadata": {},
   "source": [
    "#### Работа алгоритма:"
   ]
  },
  {
   "cell_type": "code",
   "execution_count": 23,
   "metadata": {
    "collapsed": false
   },
   "outputs": [
    {
     "name": "stdout",
     "output_type": "stream",
     "text": [
      "6\n",
      "4\n",
      "Parameters:\n",
      "Prime [4]: 11\n",
      "Generator [2]: 2\n",
      "\n",
      "Private key [24]: 13691899\n",
      "\n",
      "Public key [3]: 6\n",
      "Results:\n",
      "Shared secret [2]: 3\n",
      "Shared key [8]: b'6134643361333437'\n",
      "Parameters:\n",
      "Prime [4]: 11\n",
      "Generator [2]: 2\n",
      "\n",
      "Private key [24]: 10217552\n",
      "\n",
      "Public key [3]: 4\n",
      "Results:\n",
      "Shared secret [2]: 3\n",
      "Shared key [8]: b'6134643361333437'\n",
      "Shared keys match\n",
      "Key:  b'6134643361333437'\n",
      "a4d3a347\n"
     ]
    }
   ],
   "source": [
    "p = 11\n",
    "g = 2\n",
    "\n",
    "d1 = DiffieHellman(generator=g, prime=p, key_length=3)\n",
    "d2 = DiffieHellman(generator=g, prime=p, key_length=3)\n",
    "\n",
    "print(d1.public_key)\n",
    "print(d2.public_key)\n",
    "\n",
    "d1.gen_key(d2.public_key)\n",
    "d2.gen_key(d1.public_key)\n",
    "\n",
    "d1.show_params()\n",
    "d1.show_results()\n",
    "d2.show_params()\n",
    "d2.show_results()\n",
    "\n",
    "if d1.get_key() == d2.get_key():\n",
    "    print('Shared keys match')\n",
    "    print('Key: ', hexlify(bytes(d1.key, 'ascii')))\n",
    "    print(d1.get_key())\n",
    "else:\n",
    "    print(\"Shared secrets didn't match!\")\n",
    "    print(\"Shared secret A: \", d1.gen_secret(d2.public_key))\n",
    "    print(\"Shared secret B: \", d2.gen_secret(d1.public_key))"
   ]
  },
  {
   "cell_type": "markdown",
   "metadata": {},
   "source": [
    "## Алгоритм RSA"
   ]
  },
  {
   "cell_type": "markdown",
   "metadata": {},
   "source": [
    "RSA - ассиметричный криптографический алгоритм, использующий открытые и закрытые ключи.\n",
    "\n",
    "    - Открытый ключ - пара (e, N), где e - открытая экспонента, N - результат выполнения функции Эйлера\n",
    "    - Закрытый ключ - пара (d, N), где d - число, мультипликативно обратное открытой экспоненте, N - результат выполнения функции Эйлера\n",
    "    - Данные шифруются открытым ключем, а расшифровываются закрытым.\n",
    "    - Функция Эйлера - выражение вида (p - 1) * (q - 1), где p и q - простые случайные числа\n",
    "    - Шифрование происходит за счет операций возведения в степень по модулю с открытыми данными и ключем\n",
    "    "
   ]
  },
  {
   "cell_type": "markdown",
   "metadata": {},
   "source": [
    "#### Код алгоритма:"
   ]
  },
  {
   "cell_type": "code",
   "execution_count": 24,
   "metadata": {
    "collapsed": false
   },
   "outputs": [],
   "source": [
    "import json\n",
    "from random import randint\n",
    "from base64 import b64encode, b64decode\n",
    "\n",
    "\n",
    "class RSA(object):\n",
    "\n",
    "    def __init__(self):\n",
    "        self.p, self.q = self.gen_p_q()\n",
    "        self.N = self.p * self.q\n",
    "        self.phi = self.euler_function(self.p, self.q)\n",
    "        self.public_key_pair = (self.gen_public_exponent(), self.N)\n",
    "        self.private_key_pair = (self.gen_private_exponent(), self.N)\n",
    "\n",
    "    def encrypt(self, message, public_key_pair):\n",
    "        return self.crypt(message, public_key_pair, encrypt=True)\n",
    "\n",
    "    def decrypt(self, cipher, private_key_pair):\n",
    "        return self.crypt(cipher, private_key_pair, encrypt=False)\n",
    "\n",
    "    def crypt(self, message, key_pair, encrypt=True):\n",
    "        if encrypt:\n",
    "            msg = [ord(c) for c in message]\n",
    "            r = [pow(i, key_pair[0], key_pair[1]) for i in msg]\n",
    "            return b64encode(bytes(json.dumps(r), 'utf8')).decode('utf8'), r\n",
    "        else:\n",
    "            msg = json.loads(b64decode(message).decode('utf8'))\n",
    "            r = [pow(i, key_pair[0], key_pair[1]) for i in msg]\n",
    "            return ''.join(chr(i) for i in r), r\n",
    "\n",
    "    def get_public_key_pair(self):\n",
    "        return self.public_key_pair\n",
    "\n",
    "    def get_private_key_pair(self):\n",
    "        return self.private_key_pair\n",
    "\n",
    "    def get_phi(self):\n",
    "        return self.phi\n",
    "\n",
    "    def get_p_q(self):\n",
    "        return self.p, self.q\n",
    "\n",
    "    def gen_public_exponent(self):\n",
    "        for e in reversed(range(self.phi)):\n",
    "            if self.fermat_primality(e):\n",
    "                self.e = e\n",
    "                return e\n",
    "\n",
    "    def gen_private_exponent(self):\n",
    "        self.d = self.mod_multiplicative_inv(self.e, self.phi)[0]\n",
    "        return self.d\n",
    "\n",
    "    def euler_function(self, p, q):\n",
    "        return (p - 1) * (q - 1)\n",
    "\n",
    "    def gen_p_q(self):\n",
    "        p_c, q_c = randint(2, 100000), randint(2, 100000)\n",
    "        p = q = None\n",
    "        gen1 = gen2 = self.eratosthenes_sieve()\n",
    "        bigger = max(p_c, q_c)\n",
    "\n",
    "        for i in range(bigger):\n",
    "            if p_c > 0:\n",
    "                p = next(gen1)\n",
    "            if q_c > 0:\n",
    "                q = next(gen2)\n",
    "            p_c -= 1\n",
    "            q_c -= 1\n",
    "\n",
    "        return p, q\n",
    "\n",
    "    def fermat_primality(self, n):\n",
    "        if n == 2:\n",
    "            return True\n",
    "        if not n & 1:\n",
    "            return False\n",
    "        return pow(2, n - 1, n) == 1\n",
    "\n",
    "    def extended_euclide(self, b, n):\n",
    "        # u*a + v*b = gcd(a, b)\n",
    "        # return g, u, v\n",
    "        x0, x1, y0, y1 = 1, 0, 0, 1\n",
    "        while n != 0:\n",
    "            q, b, n = b // n, n, b % n\n",
    "            x0, x1 = x1, x0 - q * x1\n",
    "            y0, y1 = y1, y0 - q * y1\n",
    "        return b, x0, y0\n",
    "\n",
    "    def mod_multiplicative_inv(self, a, b):\n",
    "        g, u, v = self.extended_euclide(a, b)\n",
    "        return b + u, a - v\n",
    "\n",
    "    def eratosthenes_sieve(self):\n",
    "        D = {}\n",
    "        q = 2\n",
    "\n",
    "        while True:\n",
    "            if q not in D:\n",
    "                yield q\n",
    "                D[q * q] = [q]\n",
    "            else:\n",
    "                for p in D[q]:\n",
    "                    D.setdefault(p + q, []).append(p)\n",
    "                del D[q]\n",
    "            q += 1\n",
    "\n",
    "    def print_info(self):\n",
    "        print('p = %d\\nq = %d' % (self.p, self.q))\n",
    "        print('N = %d\\nphi = %d' % (self.N, self.phi))\n",
    "        print('e = %d\\nd = %d' % (self.e, self.d))"
   ]
  },
  {
   "cell_type": "markdown",
   "metadata": {},
   "source": [
    "#### Работа алгоритма:"
   ]
  },
  {
   "cell_type": "code",
   "execution_count": 26,
   "metadata": {
    "collapsed": false
   },
   "outputs": [
    {
     "name": "stdout",
     "output_type": "stream",
     "text": [
      "Cipher:\n",
      " WzkwOTA2NzU5NjgxMywgNDg1OTYwODkwODg4LCA3NTE4MzE5MjE4ODgsIDc1MTgzMTkyMTg4OCwgMTAzNDc3NDA1OTMyNiwgNTMyNTI5NTYwNTM0XQ==\n",
      "Deciphered text:\n",
      " hello!\n",
      "p = 1209469\n",
      "q = 962789\n",
      "N = 1164463449041\n",
      "phi = 1164461276784\n",
      "e = 1164461276753\n",
      "d = 1202024543777\n"
     ]
    }
   ],
   "source": [
    "rsa = RSA()\n",
    "message = 'hello!'\n",
    "cipher = rsa.encrypt(message, rsa.get_public_key_pair())\n",
    "print('Cipher:\\n', cipher[0])\n",
    "deciphered = rsa.decrypt(cipher[0], rsa.get_private_key_pair())\n",
    "print('Deciphered text:\\n', deciphered[0])\n",
    "\n",
    "rsa.print_info()"
   ]
  },
  {
   "cell_type": "markdown",
   "metadata": {},
   "source": [
    "## ЭЦП"
   ]
  },
  {
   "cell_type": "markdown",
   "metadata": {},
   "source": [
    "Реализация упрощенной электронной цифровой подписи.\n",
    "\n",
    "$$H_i = (H_{i-1} + M_i)^2 \\mod n,H_0 = 0$$\n",
    "\n",
    "$$S = H ^ d \\mod n$$\n",
    "\n",
    "$$H' = S^e \\mod n$$"
   ]
  },
  {
   "cell_type": "markdown",
   "metadata": {},
   "source": [
    "#### Код алгоритма:"
   ]
  },
  {
   "cell_type": "code",
   "execution_count": 37,
   "metadata": {
    "collapsed": true
   },
   "outputs": [],
   "source": [
    "import re\n",
    "\n",
    "\n",
    "class Signature(object):\n",
    "\n",
    "    def __init__(self, public_key, private_key, n):\n",
    "        self.public_key = public_key\n",
    "        self.private_key = private_key\n",
    "        self.n = n\n",
    "\n",
    "    def sign(self, message, private_key):\n",
    "        H = self.hash_function(message)\n",
    "        signature = pow(H, private_key, self.n)\n",
    "        return '@' + str(signature) + '@' + message\n",
    "\n",
    "    def verify(self, message, public_key):\n",
    "        regex = re.compile('@\\d+@')\n",
    "        match = regex.search(message)\n",
    "\n",
    "        if match:\n",
    "            signature = int(match.group(0).strip('@'))\n",
    "            msg = regex.sub('', message)\n",
    "\n",
    "            H1 = pow(signature, public_key, self.n)\n",
    "            H2 = self.hash_function(msg)\n",
    "\n",
    "            return H1 == H2\n",
    "\n",
    "    def hash_function(self, message):\n",
    "        H = 0\n",
    "        for c in [ord(c) for c in message]:\n",
    "            H = (H + c)**2 % self.n\n",
    "        return H\n",
    "\n",
    "    def get_public_key(self):\n",
    "        return self.public_key\n",
    "\n",
    "    def get_private_key(self):\n",
    "        return self.private_key"
   ]
  },
  {
   "cell_type": "markdown",
   "metadata": {},
   "source": [
    "#### Демонстрация работы ЭЦП:"
   ]
  },
  {
   "cell_type": "code",
   "execution_count": 40,
   "metadata": {
    "collapsed": false
   },
   "outputs": [
    {
     "name": "stdout",
     "output_type": "stream",
     "text": [
      "Initial message:  hello!\n",
      "Signed message:  @29@hello!\n",
      "Verification successful! Message was not modified.\n",
      "\n",
      "Modified message:  @29@hello! hi!\n",
      "Verification error! Message was modified\n"
     ]
    }
   ],
   "source": [
    "public_key = 5\n",
    "private_key = 29\n",
    "n = 91\n",
    "\n",
    "signature = Signature(public_key, private_key, n)\n",
    "message = 'hello!'\n",
    "\n",
    "signed_message = signature.sign(message, signature.get_private_key())  # sign the message\n",
    "print('Initial message: ', message)\n",
    "print('Signed message: ', signed_message)\n",
    "\n",
    "if signature.verify(signed_message, public_key):\n",
    "    print('Verification successful! Message was not modified.\\n')\n",
    "else:\n",
    "    print('Verification error! Message was modified.\\n')\n",
    "\n",
    "\n",
    "modified_message = signed_message + ' hi!'  # modify signed message\n",
    "print('Modified message: ', modified_message)\n",
    "\n",
    "if signature.verify(modified_message, public_key):\n",
    "    print('Verification successful! Message was not modified.')\n",
    "else:\n",
    "    print('Verification error! Message was modified')"
   ]
  },
  {
   "cell_type": "markdown",
   "metadata": {},
   "source": [
    "# Практические занятия"
   ]
  },
  {
   "cell_type": "markdown",
   "metadata": {},
   "source": [
    "## Шифр Цезаря"
   ]
  },
  {
   "cell_type": "markdown",
   "metadata": {},
   "source": [
    "#### Шифрование:"
   ]
  },
  {
   "cell_type": "code",
   "execution_count": 23,
   "metadata": {
    "collapsed": true
   },
   "outputs": [],
   "source": [
    "def cipher(text, alphabet='abcdefghijklmnopqrstuvwxyz', key=0):\n",
    "    result = \"\"\n",
    "    alphabet = alphabet.lower()\n",
    "    n = len(alphabet)\n",
    "    for char in text:\n",
    "        if char.isalpha():\n",
    "            new_char = alphabet[(alphabet.find(char.lower()) + key) % n]\n",
    "            result += new_char if char.islower() else new_char.upper()\n",
    "        else:\n",
    "            result += char\n",
    "\n",
    "    return result"
   ]
  },
  {
   "cell_type": "markdown",
   "metadata": {},
   "source": [
    "#### Расшифровывание:"
   ]
  },
  {
   "cell_type": "code",
   "execution_count": 22,
   "metadata": {
    "collapsed": true
   },
   "outputs": [],
   "source": [
    "def decipher(text, alphabet='abcdefghijklmnopqrstuvwxyz', key=0):\n",
    "    result = \"\"\n",
    "    alphabet = alphabet.lower()\n",
    "    n = len(alphabet)\n",
    "    for char in text:\n",
    "        if char.isalpha():\n",
    "            new_char = alphabet[(alphabet.find(char.lower()) - key + n) % n]\n",
    "            result += new_char if char.islower() else new_char.upper()\n",
    "        else:\n",
    "            result += char\n",
    "\n",
    "    return result"
   ]
  },
  {
   "cell_type": "markdown",
   "metadata": {},
   "source": [
    "#### Демонстрация работы алгоритма:"
   ]
  },
  {
   "cell_type": "code",
   "execution_count": 24,
   "metadata": {
    "collapsed": false
   },
   "outputs": [
    {
     "name": "stdout",
     "output_type": "stream",
     "text": [
      "Фэзыя йз зьи ахлш пвёнлш чугрщцкфнлш дцосн, жг еютзм ъгб.\n",
      "Съешь же ещё этих мягких французских булок, да выпей чаю.\n"
     ]
    }
   ],
   "source": [
    "alphabet = 'АБВГДЕЁЖЗИЙКЛМНОПРСТУФХЦЧШЩЪЫЬЭЮЯ'\n",
    "text = 'Съешь же ещё этих мягких французских булок, да выпей чаю.'\n",
    "key = 3\n",
    "\n",
    "ciphered_phrase = cipher(text, alphabet, key)\n",
    "print(ciphered_phrase)\n",
    "\n",
    "deciphered_phrase = decipher(ciphered_phrase, alphabet, key)\n",
    "print(deciphered_phrase)"
   ]
  },
  {
   "cell_type": "markdown",
   "metadata": {},
   "source": [
    "#### Криптоанализ"
   ]
  },
  {
   "cell_type": "markdown",
   "metadata": {},
   "source": [
    "Взломать шифр Цезаря можно, используя частоты букв алфавита и вычисление наименьшей энтропии"
   ]
  },
  {
   "cell_type": "markdown",
   "metadata": {},
   "source": [
    "##### Код для взлома шифров на английском языке:"
   ]
  },
  {
   "cell_type": "code",
   "execution_count": 20,
   "metadata": {
    "collapsed": true
   },
   "outputs": [],
   "source": [
    "import numpy as np\n",
    "\n",
    "ENGLISH_FREQS = [\n",
    "    0.08167, 0.01492, 0.02782, 0.04253, 0.12702, 0.02228,\n",
    "    0.02015, 0.06094, 0.06966, 0.00153, 0.00772, 0.04025,\n",
    "    0.02406, 0.06749, 0.07507, 0.01929, 0.00095, 0.05987,\n",
    "    0.06327, 0.09056, 0.02758, 0.00978, 0.02360, 0.00150,\n",
    "    0.01974, 0.00074\n",
    "]\n",
    "\n",
    "\n",
    "# Returns the cross-entropy of the given string with respect to\n",
    "# the English unigram frequencies, which is a positive\n",
    "# floating-point number.\n",
    "def get_entropy(str):\n",
    "    sum, ignored = 0, 0\n",
    "    for c in str:\n",
    "        if c.isalpha():\n",
    "            sum += np.log(ENGLISH_FREQS[ord(c.lower()) - 97])\n",
    "        else:\n",
    "            ignored += 1\n",
    "    return -sum / np.log(2) / (len(str) - ignored)\n",
    "\n",
    "\n",
    "# Returns the entropies when the given string is decrypted with\n",
    "# all 26 possible shifts, where the result is an array of tuples\n",
    "# (int shift, float enptroy) -\n",
    "# e.g. [(0, 2.01), (1, 4.95), ..., (25, 3.73)].\n",
    "def get_all_entropies(str):\n",
    "    result = []\n",
    "    for i in range(0, 26):\n",
    "        result.append((i, get_entropy(decipher(str, key=i))))\n",
    "    return result\n",
    "\n",
    "\n",
    "def cmp_to_key(mycmp):\n",
    "    'Convert a cmp= function into a key= function'\n",
    "    class K(object):\n",
    "        def __init__(self, obj, *args):\n",
    "            self.obj = obj\n",
    "\n",
    "        def __lt__(self, other):\n",
    "            return mycmp(self.obj, other.obj) < 0\n",
    "\n",
    "        def __gt__(self, other):\n",
    "            return mycmp(self.obj, other.obj) > 0\n",
    "\n",
    "        def __eq__(self, other):\n",
    "            return mycmp(self.obj, other.obj) == 0\n",
    "\n",
    "        def __le__(self, other):\n",
    "            return mycmp(self.obj, other.obj) <= 0\n",
    "\n",
    "        def __ge__(self, other):\n",
    "            return mycmp(self.obj, other.obj) >= 0\n",
    "\n",
    "        def __ne__(self, other):\n",
    "            return mycmp(self.obj, other.obj) != 0\n",
    "    return K\n",
    "\n",
    "\n",
    "def comparator(x, y):\n",
    "    if x[1] < y[1]:\n",
    "        return -1\n",
    "    elif x[1] > y[1]:\n",
    "        return 1\n",
    "    elif x[0] < y[0]:\n",
    "        return -1\n",
    "    elif x[0] > y[0]:\n",
    "        return 1\n",
    "    else:\n",
    "        return 0\n"
   ]
  },
  {
   "cell_type": "markdown",
   "metadata": {},
   "source": [
    "##### Демонстрация работы кода:"
   ]
  },
  {
   "cell_type": "code",
   "execution_count": 25,
   "metadata": {
    "collapsed": false
   },
   "outputs": [
    {
     "name": "stdout",
     "output_type": "stream",
     "text": [
      "Initial text:  hello\n",
      "Ciphered text:  vszzc\n",
      "\n",
      "Best guess:\n",
      "14 rotations\n",
      "Deiphered text: hello\n",
      "\n",
      "=========\n",
      "Full circle:\n",
      "0 -\tvszzc\n",
      "1 -\turyyb\n",
      "2 -\ttqxxa\n",
      "3 -\tspwwz\n",
      "4 -\trovvy\n",
      "5 -\tqnuux\n",
      "6 -\tpmttw\n",
      "7 -\tolssv\n",
      "8 -\tnkrru\n",
      "9 -\tmjqqt\n",
      "10 -\tlipps\n",
      "11 -\tkhoor\n",
      "12 -\tjgnnq\n",
      "13 -\tifmmp\n",
      "14 -\thello\n",
      "15 -\tgdkkn\n",
      "16 -\tfcjjm\n",
      "17 -\tebiil\n",
      "18 -\tdahhk\n",
      "19 -\tczggj\n",
      "20 -\tbyffi\n",
      "21 -\taxeeh\n",
      "22 -\tzwddg\n",
      "23 -\tyvccf\n",
      "24 -\txubbe\n",
      "25 -\twtaad\n"
     ]
    }
   ],
   "source": [
    "text = 'hello'\n",
    "ciphered = cipher(text, alphabet='abcdefghijklmnopqrstuvwxyz', key=14)\n",
    "\n",
    "print('Initial text: ', text)\n",
    "print('Ciphered text: ', ciphered)\n",
    "\n",
    "entropies = get_all_entropies(ciphered)\n",
    "entropies.sort(key=cmp_to_key(comparator))\n",
    "best_shift = entropies[0][0]\n",
    "cracked_val = decipher(ciphered, key=best_shift)\n",
    "print('\\nBest guess:')\n",
    "print('%d rotations\\nDeiphered text: %s\\n' % (best_shift, cracked_val))\n",
    "\n",
    "print('=========\\nFull circle:')\n",
    "for i in range(0, 26):\n",
    "    print('%d -\\t%s' % (i, decipher(ciphered, key=i)))"
   ]
  },
  {
   "cell_type": "markdown",
   "metadata": {},
   "source": [
    "## Шифр Виженера"
   ]
  },
  {
   "cell_type": "markdown",
   "metadata": {},
   "source": [
    "Шифр Виженера — метод полиалфавитного шифрования буквенного текста с использованием ключевого слова."
   ]
  },
  {
   "cell_type": "markdown",
   "metadata": {},
   "source": [
    "#### Код алгоритма:"
   ]
  },
  {
   "cell_type": "code",
   "execution_count": 16,
   "metadata": {
    "collapsed": true
   },
   "outputs": [],
   "source": [
    "import string\n",
    "\n",
    "\n",
    "class Vigenere(object):\n",
    "\n",
    "    def __init__(self, key):\n",
    "        self.key = key\n",
    "        self.tabula_recta = self.generate_tabula_recta()\n",
    "\n",
    "    def encrypt(self, msg):\n",
    "        msg_l = len(msg)\n",
    "        key = self.adjust_key(self.key, msg_l)\n",
    "        return ''.join(self.tabula_recta[msg[i]][key[i]] for i in range(msg_l))\n",
    "\n",
    "    def decrypt(self, msg):\n",
    "        msg_l, t = len(msg), self.tabula_recta\n",
    "        key = self.adjust_key(self.key, msg_l)\n",
    "        return ''.join(\n",
    "            list(t[key[i]].keys())[\n",
    "                list(t[key[i]].values()).index(msg[i])\n",
    "            ] for i in range(msg_l)\n",
    "        )\n",
    "\n",
    "    def generate_tabula_recta(self):\n",
    "        alphabet = a = list(string.ascii_uppercase)\n",
    "        n = len(alphabet)\n",
    "        tabula_recta = dict()\n",
    "\n",
    "        for index, row_c in enumerate(alphabet):\n",
    "            tabula_recta[row_c] = dict()\n",
    "            for col_c in alphabet:\n",
    "                tabula_recta[row_c][col_c] = a[(a.index(col_c) + index) % n]\n",
    "\n",
    "        return tabula_recta\n",
    "\n",
    "    def adjust_key(self, key, length):\n",
    "        key_len = len(key)\n",
    "        return ''.join([key[(i + key_len) % key_len] for i in range(length)])\n",
    "\n",
    "    def get_key(self):\n",
    "        return self.key\n",
    "\n",
    "    def get_tabula_recta(self):\n",
    "        return self.tabula_recta\n",
    "\n",
    "    def pretty_print(self, d, space=3, fill='-'):\n",
    "        strs = ''.join('{{{0}:^{1}}}'.format(\n",
    "            str(i), str(space)) for i in range(len(d) + 1)\n",
    "        )\n",
    "        std = sorted(d)\n",
    "        print(strs.format(\" \", *std))\n",
    "        for x in std:\n",
    "            print(strs.format(x, *(d[x].get(y, fill) for y in std)))\n"
   ]
  },
  {
   "cell_type": "markdown",
   "metadata": {},
   "source": [
    "#### Tabula Recta - таблицы Виженера:"
   ]
  },
  {
   "cell_type": "code",
   "execution_count": 17,
   "metadata": {
    "collapsed": false
   },
   "outputs": [
    {
     "name": "stdout",
     "output_type": "stream",
     "text": [
      "    A  B  C  D  E  F  G  H  I  J  K  L  M  N  O  P  Q  R  S  T  U  V  W  X  Y  Z \n",
      " A  A  B  C  D  E  F  G  H  I  J  K  L  M  N  O  P  Q  R  S  T  U  V  W  X  Y  Z \n",
      " B  B  C  D  E  F  G  H  I  J  K  L  M  N  O  P  Q  R  S  T  U  V  W  X  Y  Z  A \n",
      " C  C  D  E  F  G  H  I  J  K  L  M  N  O  P  Q  R  S  T  U  V  W  X  Y  Z  A  B \n",
      " D  D  E  F  G  H  I  J  K  L  M  N  O  P  Q  R  S  T  U  V  W  X  Y  Z  A  B  C \n",
      " E  E  F  G  H  I  J  K  L  M  N  O  P  Q  R  S  T  U  V  W  X  Y  Z  A  B  C  D \n",
      " F  F  G  H  I  J  K  L  M  N  O  P  Q  R  S  T  U  V  W  X  Y  Z  A  B  C  D  E \n",
      " G  G  H  I  J  K  L  M  N  O  P  Q  R  S  T  U  V  W  X  Y  Z  A  B  C  D  E  F \n",
      " H  H  I  J  K  L  M  N  O  P  Q  R  S  T  U  V  W  X  Y  Z  A  B  C  D  E  F  G \n",
      " I  I  J  K  L  M  N  O  P  Q  R  S  T  U  V  W  X  Y  Z  A  B  C  D  E  F  G  H \n",
      " J  J  K  L  M  N  O  P  Q  R  S  T  U  V  W  X  Y  Z  A  B  C  D  E  F  G  H  I \n",
      " K  K  L  M  N  O  P  Q  R  S  T  U  V  W  X  Y  Z  A  B  C  D  E  F  G  H  I  J \n",
      " L  L  M  N  O  P  Q  R  S  T  U  V  W  X  Y  Z  A  B  C  D  E  F  G  H  I  J  K \n",
      " M  M  N  O  P  Q  R  S  T  U  V  W  X  Y  Z  A  B  C  D  E  F  G  H  I  J  K  L \n",
      " N  N  O  P  Q  R  S  T  U  V  W  X  Y  Z  A  B  C  D  E  F  G  H  I  J  K  L  M \n",
      " O  O  P  Q  R  S  T  U  V  W  X  Y  Z  A  B  C  D  E  F  G  H  I  J  K  L  M  N \n",
      " P  P  Q  R  S  T  U  V  W  X  Y  Z  A  B  C  D  E  F  G  H  I  J  K  L  M  N  O \n",
      " Q  Q  R  S  T  U  V  W  X  Y  Z  A  B  C  D  E  F  G  H  I  J  K  L  M  N  O  P \n",
      " R  R  S  T  U  V  W  X  Y  Z  A  B  C  D  E  F  G  H  I  J  K  L  M  N  O  P  Q \n",
      " S  S  T  U  V  W  X  Y  Z  A  B  C  D  E  F  G  H  I  J  K  L  M  N  O  P  Q  R \n",
      " T  T  U  V  W  X  Y  Z  A  B  C  D  E  F  G  H  I  J  K  L  M  N  O  P  Q  R  S \n",
      " U  U  V  W  X  Y  Z  A  B  C  D  E  F  G  H  I  J  K  L  M  N  O  P  Q  R  S  T \n",
      " V  V  W  X  Y  Z  A  B  C  D  E  F  G  H  I  J  K  L  M  N  O  P  Q  R  S  T  U \n",
      " W  W  X  Y  Z  A  B  C  D  E  F  G  H  I  J  K  L  M  N  O  P  Q  R  S  T  U  V \n",
      " X  X  Y  Z  A  B  C  D  E  F  G  H  I  J  K  L  M  N  O  P  Q  R  S  T  U  V  W \n",
      " Y  Y  Z  A  B  C  D  E  F  G  H  I  J  K  L  M  N  O  P  Q  R  S  T  U  V  W  X \n",
      " Z  Z  A  B  C  D  E  F  G  H  I  J  K  L  M  N  O  P  Q  R  S  T  U  V  W  X  Y \n"
     ]
    }
   ],
   "source": [
    "v = Vigenere('TEST')\n",
    "v.pretty_print(v.get_tabula_recta(), space=3)"
   ]
  },
  {
   "cell_type": "markdown",
   "metadata": {},
   "source": [
    "#### Демонстрация работы алгоритма:"
   ]
  },
  {
   "cell_type": "code",
   "execution_count": 18,
   "metadata": {
    "collapsed": false
   },
   "outputs": [
    {
     "name": "stdout",
     "output_type": "stream",
     "text": [
      "Key:\t\t LEMON\n",
      "Message:\t ATTACKATDAWN\n",
      "Ciphered:\t LXFOPVEFRNHR\n",
      "Deciphered:\t ATTACKATDAWN\n"
     ]
    }
   ],
   "source": [
    "key = 'LEMON'\n",
    "message = 'ATTACKATDAWN'\n",
    "\n",
    "vigenere = Vigenere(key)\n",
    "cipher = vigenere.encrypt(message)\n",
    "deciphered = vigenere.decrypt(cipher)\n",
    "\n",
    "print('Key:\\t\\t', key)\n",
    "print('Message:\\t', message)\n",
    "print('Ciphered:\\t', cipher)\n",
    "print('Deciphered:\\t', deciphered)"
   ]
  }
 ],
 "metadata": {
  "kernelspec": {
   "display_name": "Python 3",
   "language": "python",
   "name": "python3"
  },
  "language_info": {
   "codemirror_mode": {
    "name": "ipython",
    "version": 3
   },
   "file_extension": ".py",
   "mimetype": "text/x-python",
   "name": "python",
   "nbconvert_exporter": "python",
   "pygments_lexer": "ipython3",
   "version": "3.4.3"
  }
 },
 "nbformat": 4,
 "nbformat_minor": 0
}
